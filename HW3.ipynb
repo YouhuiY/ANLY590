{
 "cells": [
  {
   "cell_type": "markdown",
   "metadata": {},
   "source": [
    "## 1 Autoencoder"
   ]
  },
  {
   "cell_type": "code",
   "execution_count": 33,
   "metadata": {},
   "outputs": [],
   "source": [
    "from keras.layers import Input, Dense, Conv2D, MaxPooling2D, UpSampling2D, Flatten, LSTM, Embedding,Conv1D, MaxPool1D\n",
    "from keras.models import Model\n",
    "from keras import backend as K\n",
    "from keras.datasets import mnist\n",
    "import numpy as np\n",
    "from keras.callbacks import TensorBoard\n",
    "import matplotlib.pyplot as plt\n",
    "import keras\n",
    "from keras.applications.vgg16 import VGG16, preprocess_input\n",
    "import cv2\n",
    "import pandas as pd\n",
    "import csv\n",
    "import nltk\n",
    "from nltk.tokenize import sent_tokenize, word_tokenize\n",
    "from nltk.corpus import stopwords\n",
    "import re\n",
    "from sklearn.model_selection import train_test_split\n",
    "from keras.preprocessing.text import Tokenizer\n",
    "from keras.preprocessing import sequence\n",
    "from keras.optimizers import RMSprop\n",
    "from keras.callbacks import EarlyStopping\n",
    "from sklearn.metrics import roc_curve, auc\n",
    "from sklearn.metrics import roc_auc_score"
   ]
  },
  {
   "cell_type": "code",
   "execution_count": 2,
   "metadata": {},
   "outputs": [],
   "source": [
    "input_img = Input(shape=(28, 28, 1))  # adapt this if using `channels_first` image data format"
   ]
  },
  {
   "cell_type": "code",
   "execution_count": 3,
   "metadata": {},
   "outputs": [],
   "source": [
    "x = Conv2D(32, (3, 3), activation='relu', padding='same')(input_img)\n",
    "x = MaxPooling2D((2, 2), padding='same')(x)\n",
    "x = Conv2D(16, (3, 3), activation='relu', padding='same')(x)\n",
    "x = MaxPooling2D((2, 2), padding='same')(x)\n",
    "x = Conv2D(8, (3, 3), activation='relu', padding='same')(x)\n",
    "encoded = MaxPooling2D((2, 2), padding='same')(x)"
   ]
  },
  {
   "cell_type": "code",
   "execution_count": 4,
   "metadata": {},
   "outputs": [],
   "source": [
    "x = Conv2D(8, (3, 3), activation='relu', padding='same')(encoded)\n",
    "x = UpSampling2D((2, 2))(x)\n",
    "x = Conv2D(16, (3, 3), activation='relu', padding='same')(x)\n",
    "x = UpSampling2D((2, 2))(x)\n",
    "x = Conv2D(32, (3, 3), activation='relu')(x)\n",
    "x = UpSampling2D((2, 2))(x)\n",
    "decoded = Conv2D(1, (3, 3), activation='sigmoid', padding='same')(x)"
   ]
  },
  {
   "cell_type": "code",
   "execution_count": 5,
   "metadata": {},
   "outputs": [],
   "source": [
    "autoencoder = Model(input_img, decoded)\n",
    "autoencoder.compile(optimizer='adadelta', loss='binary_crossentropy')"
   ]
  },
  {
   "cell_type": "code",
   "execution_count": 6,
   "metadata": {},
   "outputs": [],
   "source": [
    "(x_train, _), (x_test, _) = mnist.load_data()\n",
    "\n",
    "x_train = x_train.astype('float32') / 255.\n",
    "x_test = x_test.astype('float32') / 255.\n",
    "x_train = np.reshape(x_train, (len(x_train), 28, 28, 1))  # adapt this if using `channels_first` image data format\n",
    "x_test = np.reshape(x_test, (len(x_test), 28, 28, 1))  # adapt this if using `channels_first` image data format"
   ]
  },
  {
   "cell_type": "code",
   "execution_count": 7,
   "metadata": {},
   "outputs": [
    {
     "name": "stdout",
     "output_type": "stream",
     "text": [
      "Train on 60000 samples, validate on 10000 samples\n",
      "Epoch 1/50\n",
      "60000/60000 [==============================] - 51s 849us/step - loss: 0.2032 - val_loss: 0.1590\n",
      "Epoch 2/50\n",
      "60000/60000 [==============================] - 51s 849us/step - loss: 0.1457 - val_loss: 0.1345\n",
      "Epoch 3/50\n",
      "60000/60000 [==============================] - 52s 865us/step - loss: 0.1328 - val_loss: 0.1242\n",
      "Epoch 4/50\n",
      "60000/60000 [==============================] - 531s 9ms/step - loss: 0.1256 - val_loss: 0.1212\n",
      "Epoch 5/50\n",
      "60000/60000 [==============================] - 54s 902us/step - loss: 0.1208 - val_loss: 0.1196\n",
      "Epoch 6/50\n",
      "60000/60000 [==============================] - 54s 896us/step - loss: 0.1172 - val_loss: 0.1145\n",
      "Epoch 7/50\n",
      "60000/60000 [==============================] - 54s 895us/step - loss: 0.1143 - val_loss: 0.1142\n",
      "Epoch 8/50\n",
      "60000/60000 [==============================] - 54s 900us/step - loss: 0.1118 - val_loss: 0.1092\n",
      "Epoch 9/50\n",
      "60000/60000 [==============================] - 53s 879us/step - loss: 0.1104 - val_loss: 0.1095\n",
      "Epoch 10/50\n",
      "60000/60000 [==============================] - 53s 877us/step - loss: 0.1085 - val_loss: 0.1075\n",
      "Epoch 11/50\n",
      "60000/60000 [==============================] - 53s 883us/step - loss: 0.1072 - val_loss: 0.1063\n",
      "Epoch 12/50\n",
      "60000/60000 [==============================] - 53s 882us/step - loss: 0.1063 - val_loss: 0.1044\n",
      "Epoch 13/50\n",
      "60000/60000 [==============================] - 54s 900us/step - loss: 0.1051 - val_loss: 0.1004\n",
      "Epoch 14/50\n",
      "60000/60000 [==============================] - 60s 998us/step - loss: 0.1041 - val_loss: 0.1035\n",
      "Epoch 15/50\n",
      "60000/60000 [==============================] - 55s 921us/step - loss: 0.1033 - val_loss: 0.0996\n",
      "Epoch 16/50\n",
      "60000/60000 [==============================] - 55s 919us/step - loss: 0.1025 - val_loss: 0.1011\n",
      "Epoch 17/50\n",
      "60000/60000 [==============================] - 55s 913us/step - loss: 0.1019 - val_loss: 0.1004\n",
      "Epoch 18/50\n",
      "60000/60000 [==============================] - 55s 915us/step - loss: 0.1014 - val_loss: 0.1049\n",
      "Epoch 19/50\n",
      "60000/60000 [==============================] - 56s 925us/step - loss: 0.1008 - val_loss: 0.1006\n",
      "Epoch 20/50\n",
      "60000/60000 [==============================] - 309s 5ms/step - loss: 0.1004 - val_loss: 0.0996\n",
      "Epoch 21/50\n",
      "60000/60000 [==============================] - 55s 912us/step - loss: 0.0997 - val_loss: 0.0975\n",
      "Epoch 22/50\n",
      "60000/60000 [==============================] - 55s 911us/step - loss: 0.0994 - val_loss: 0.0964\n",
      "Epoch 23/50\n",
      "60000/60000 [==============================] - 304s 5ms/step - loss: 0.0988 - val_loss: 0.0974\n",
      "Epoch 24/50\n",
      "60000/60000 [==============================] - 56s 926us/step - loss: 0.0988 - val_loss: 0.0951\n",
      "Epoch 25/50\n",
      "60000/60000 [==============================] - 55s 915us/step - loss: 0.0984 - val_loss: 0.0993\n",
      "Epoch 26/50\n",
      "60000/60000 [==============================] - 55s 916us/step - loss: 0.0978 - val_loss: 0.1010\n",
      "Epoch 27/50\n",
      "60000/60000 [==============================] - 55s 910us/step - loss: 0.0976 - val_loss: 0.0963\n",
      "Epoch 28/50\n",
      "60000/60000 [==============================] - 2367s 39ms/step - loss: 0.0972 - val_loss: 0.0949\n",
      "Epoch 29/50\n",
      "60000/60000 [==============================] - 55s 918us/step - loss: 0.0969 - val_loss: 0.0966\n",
      "Epoch 30/50\n",
      "60000/60000 [==============================] - 54s 906us/step - loss: 0.0967 - val_loss: 0.0945\n",
      "Epoch 31/50\n",
      "60000/60000 [==============================] - 54s 892us/step - loss: 0.0963 - val_loss: 0.0972\n",
      "Epoch 32/50\n",
      "60000/60000 [==============================] - 865s 14ms/step - loss: 0.0959 - val_loss: 0.0955\n",
      "Epoch 33/50\n",
      "60000/60000 [==============================] - 54s 893us/step - loss: 0.0957 - val_loss: 0.0945\n",
      "Epoch 34/50\n",
      "60000/60000 [==============================] - 54s 904us/step - loss: 0.0956 - val_loss: 0.0958\n",
      "Epoch 35/50\n",
      "60000/60000 [==============================] - 1445s 24ms/step - loss: 0.0952 - val_loss: 0.0934\n",
      "Epoch 36/50\n",
      "60000/60000 [==============================] - 60s 1ms/step - loss: 0.0951 - val_loss: 0.0938\n",
      "Epoch 37/50\n",
      "60000/60000 [==============================] - 58s 971us/step - loss: 0.0948 - val_loss: 0.0969\n",
      "Epoch 38/50\n",
      "60000/60000 [==============================] - 55s 913us/step - loss: 0.0945 - val_loss: 0.0935\n",
      "Epoch 39/50\n",
      "60000/60000 [==============================] - 55s 909us/step - loss: 0.0944 - val_loss: 0.0934\n",
      "Epoch 40/50\n",
      "60000/60000 [==============================] - 613s 10ms/step - loss: 0.0942 - val_loss: 0.0924\n",
      "Epoch 41/50\n",
      "60000/60000 [==============================] - 53s 888us/step - loss: 0.0941 - val_loss: 0.0928\n",
      "Epoch 42/50\n",
      "60000/60000 [==============================] - 53s 889us/step - loss: 0.0938 - val_loss: 0.0931\n",
      "Epoch 43/50\n",
      "60000/60000 [==============================] - 54s 899us/step - loss: 0.0937 - val_loss: 0.0921\n",
      "Epoch 44/50\n",
      "60000/60000 [==============================] - 237s 4ms/step - loss: 0.0931 - val_loss: 0.0911\n",
      "Epoch 45/50\n",
      "60000/60000 [==============================] - 57s 955us/step - loss: 0.0933 - val_loss: 0.0923\n",
      "Epoch 46/50\n",
      "60000/60000 [==============================] - 55s 911us/step - loss: 0.0929 - val_loss: 0.0913\n",
      "Epoch 47/50\n",
      "60000/60000 [==============================] - 55s 910us/step - loss: 0.0929 - val_loss: 0.0917\n",
      "Epoch 48/50\n",
      "60000/60000 [==============================] - 97s 2ms/step - loss: 0.0927 - val_loss: 0.0921\n",
      "Epoch 49/50\n",
      "60000/60000 [==============================] - 59s 980us/step - loss: 0.0928 - val_loss: 0.0946\n",
      "Epoch 50/50\n",
      "60000/60000 [==============================] - 54s 895us/step - loss: 0.0925 - val_loss: 0.0910\n"
     ]
    },
    {
     "data": {
      "text/plain": [
       "<keras.callbacks.History at 0x7f98b983f908>"
      ]
     },
     "execution_count": 7,
     "metadata": {},
     "output_type": "execute_result"
    }
   ],
   "source": [
    "autoencoder.fit(x_train, x_train,\n",
    "                epochs=50,\n",
    "                batch_size=128,\n",
    "                shuffle=True,\n",
    "                validation_data=(x_test, x_test))"
   ]
  },
  {
   "cell_type": "code",
   "execution_count": 8,
   "metadata": {},
   "outputs": [
    {
     "data": {
      "image/png": "[encoded data removed]",
      "text/plain": [
       "<Figure size 1440x288 with 18 Axes>"
      ]
     },
     "metadata": {
      "needs_background": "light"
     },
     "output_type": "display_data"
    }
   ],
   "source": [
    "decoded_imgs = autoencoder.predict(x_test)\n",
    "\n",
    "n = 10\n",
    "plt.figure(figsize=(20, 4))\n",
    "for i in range(1, n):\n",
    "    # display original\n",
    "    ax = plt.subplot(2, n, i)\n",
    "    plt.imshow(x_test[i].reshape(28, 28))\n",
    "    plt.gray()\n",
    "    ax.get_xaxis().set_visible(False)\n",
    "    ax.get_yaxis().set_visible(False)\n",
    "    ax = plt.subplot(2, n, i + n)\n",
    "    plt.imshow(decoded_imgs[i].reshape(28, 28))\n",
    "    plt.gray()\n",
    "    ax.get_xaxis().set_visible(False)\n",
    "    ax.get_yaxis().set_visible(False)\n",
    "plt.show()"
   ]
  },
  {
   "cell_type": "markdown",
   "metadata": {},
   "source": [
    "## 2 Image Classification"
   ]
  },
  {
   "cell_type": "markdown",
   "metadata": {},
   "source": [
    "### 2.1 Deep CNN"
   ]
  },
  {
   "cell_type": "code",
   "execution_count": 9,
   "metadata": {},
   "outputs": [],
   "source": [
    "num_classes = 10\n",
    "input_img = Input(shape=(28, 28, 1))\n",
    "x = Conv2D(16, (3, 3), activation='relu', padding='same')(input_img)\n",
    "x = MaxPooling2D((2, 2), padding='same')(x)\n",
    "x = Conv2D(8, (3, 3), activation='relu', padding='same')(x)\n",
    "x = MaxPooling2D((2, 2), padding='same')(x)\n",
    "x = Conv2D(4, (3, 3), activation='relu', padding='same')(x)\n",
    "x = MaxPooling2D((2, 2), padding='same')(x)\n",
    "x = Flatten()(x)\n",
    "x = Dense(32, activation = 'relu')(x)\n",
    "output = Dense(num_classes, activation = 'softmax')(x)"
   ]
  },
  {
   "cell_type": "code",
   "execution_count": 10,
   "metadata": {},
   "outputs": [],
   "source": [
    "cnn = Model(input_img, output)\n",
    "cnn.compile(optimizer='adadelta', loss='categorical_crossentropy', metrics=['accuracy'])"
   ]
  },
  {
   "cell_type": "code",
   "execution_count": 11,
   "metadata": {},
   "outputs": [],
   "source": [
    "(x_train, y_train), (x_test, y_test) = mnist.load_data()\n",
    "x_train = x_train.reshape(x_train.shape[0], 28, 28, 1)\n",
    "x_test = x_test.reshape(x_test.shape[0], 28, 28, 1)\n",
    "x_train = x_train.astype('float32')\n",
    "x_test = x_test.astype('float32')\n",
    "x_train /= 255\n",
    "x_test /= 255\n",
    "y_train = keras.utils.to_categorical(y_train, num_classes)\n",
    "y_test = keras.utils.to_categorical(y_test, num_classes)"
   ]
  },
  {
   "cell_type": "code",
   "execution_count": 12,
   "metadata": {},
   "outputs": [
    {
     "name": "stdout",
     "output_type": "stream",
     "text": [
      "Train on 60000 samples, validate on 10000 samples\n",
      "Epoch 1/15\n",
      "60000/60000 [==============================] - 13s 210us/step - loss: 0.4779 - acc: 0.8438 - val_loss: 0.1371 - val_acc: 0.9566\n",
      "Epoch 2/15\n",
      "60000/60000 [==============================] - 13s 214us/step - loss: 0.1369 - acc: 0.9560 - val_loss: 0.1295 - val_acc: 0.9592\n",
      "Epoch 3/15\n",
      "60000/60000 [==============================] - 13s 215us/step - loss: 0.1066 - acc: 0.9669 - val_loss: 0.0843 - val_acc: 0.9719\n",
      "Epoch 4/15\n",
      "60000/60000 [==============================] - 16s 266us/step - loss: 0.0909 - acc: 0.9708 - val_loss: 0.0954 - val_acc: 0.9693\n",
      "Epoch 5/15\n",
      "60000/60000 [==============================] - 18s 304us/step - loss: 0.0819 - acc: 0.9742 - val_loss: 0.0690 - val_acc: 0.9772\n",
      "Epoch 6/15\n",
      "60000/60000 [==============================] - 19s 310us/step - loss: 0.0746 - acc: 0.9763 - val_loss: 0.0679 - val_acc: 0.9778\n",
      "Epoch 7/15\n",
      "60000/60000 [==============================] - 19s 313us/step - loss: 0.0702 - acc: 0.9782 - val_loss: 0.0592 - val_acc: 0.9817\n",
      "Epoch 8/15\n",
      "60000/60000 [==============================] - 19s 315us/step - loss: 0.0652 - acc: 0.9793 - val_loss: 0.0949 - val_acc: 0.9696\n",
      "Epoch 9/15\n",
      "60000/60000 [==============================] - 18s 303us/step - loss: 0.0620 - acc: 0.9803 - val_loss: 0.0544 - val_acc: 0.9823\n",
      "Epoch 10/15\n",
      "60000/60000 [==============================] - 18s 306us/step - loss: 0.0587 - acc: 0.9812 - val_loss: 0.0607 - val_acc: 0.9785\n",
      "Epoch 11/15\n",
      "60000/60000 [==============================] - 18s 302us/step - loss: 0.0559 - acc: 0.9824 - val_loss: 0.0547 - val_acc: 0.9824\n",
      "Epoch 12/15\n",
      "60000/60000 [==============================] - 18s 298us/step - loss: 0.0539 - acc: 0.9827 - val_loss: 0.0536 - val_acc: 0.9823\n",
      "Epoch 13/15\n",
      "60000/60000 [==============================] - 18s 298us/step - loss: 0.0512 - acc: 0.9838 - val_loss: 0.0522 - val_acc: 0.9837\n",
      "Epoch 14/15\n",
      "60000/60000 [==============================] - 18s 297us/step - loss: 0.0489 - acc: 0.9841 - val_loss: 0.0523 - val_acc: 0.9827\n",
      "Epoch 15/15\n",
      "60000/60000 [==============================] - 18s 293us/step - loss: 0.0474 - acc: 0.9850 - val_loss: 0.0507 - val_acc: 0.9832\n",
      "Test loss: 0.050680868133855986\n",
      "Test accuracy: 0.9832\n"
     ]
    }
   ],
   "source": [
    "cnn.fit(x_train, y_train,\n",
    "          batch_size=128,\n",
    "          epochs=15,\n",
    "          validation_data=(x_test, y_test))\n",
    "score = cnn.evaluate(x_test, y_test, verbose=0)\n",
    "print('Test loss:', score[0])\n",
    "print('Test accuracy:', score[1])"
   ]
  },
  {
   "cell_type": "markdown",
   "metadata": {},
   "source": [
    "## 2.2 Transfer Learning"
   ]
  },
  {
   "cell_type": "code",
   "execution_count": 13,
   "metadata": {},
   "outputs": [],
   "source": [
    "num_classes = 10\n",
    "input_img = Input(shape=(32, 32, 3))"
   ]
  },
  {
   "cell_type": "code",
   "execution_count": 14,
   "metadata": {},
   "outputs": [],
   "source": [
    "vgg_model = VGG16(weights='imagenet', include_top=False)\n",
    "for layer in vgg_model.layers:\n",
    "    layer.trainable = False\n",
    "vgg_output = vgg_model(input_img)\n",
    "x = Flatten()(vgg_output)\n",
    "x = Dense(128, activation='relu')(x)\n",
    "output = Dense(num_classes, activation='softmax')(x)\n",
    "\n",
    "tl_model = Model(inputs = input_img, outputs = output)\n",
    "tl_model.compile(optimizer='adadelta', loss='categorical_crossentropy', metrics=['accuracy'])\n"
   ]
  },
  {
   "cell_type": "code",
   "execution_count": 15,
   "metadata": {},
   "outputs": [],
   "source": [
    "(x_train, y_train), (x_test, y_test) = mnist.load_data()\n",
    "\n",
    "x_train = [cv2.cvtColor(cv2.resize(i, (32,32)), cv2.COLOR_GRAY2BGR) for i in x_train]\n",
    "x_train = np.array(x_train).astype('float32')\n",
    "\n",
    "x_test = [cv2.cvtColor(cv2.resize(i, (32,32)), cv2.COLOR_GRAY2BGR) for i in x_test]\n",
    "x_test = np.array(x_test).astype('float32')\n",
    "\n",
    "x_train /= 255\n",
    "x_test /= 255\n",
    "y_train = keras.utils.to_categorical(y_train, num_classes)\n",
    "y_test = keras.utils.to_categorical(y_test, num_classes)"
   ]
  },
  {
   "cell_type": "code",
   "execution_count": 16,
   "metadata": {},
   "outputs": [
    {
     "name": "stdout",
     "output_type": "stream",
     "text": [
      "Train on 60000 samples, validate on 10000 samples\n",
      "Epoch 1/5\n",
      "60000/60000 [==============================] - 3758s 63ms/step - loss: 0.5141 - acc: 0.8540 - val_loss: 0.2360 - val_acc: 0.9297\n",
      "Epoch 2/5\n",
      "60000/60000 [==============================] - 298s 5ms/step - loss: 0.2081 - acc: 0.9371 - val_loss: 0.1871 - val_acc: 0.9417\n",
      "Epoch 3/5\n",
      "60000/60000 [==============================] - 226s 4ms/step - loss: 0.1635 - acc: 0.9498 - val_loss: 0.1519 - val_acc: 0.9519\n",
      "Epoch 4/5\n",
      "60000/60000 [==============================] - 228s 4ms/step - loss: 0.1418 - acc: 0.9562 - val_loss: 0.1255 - val_acc: 0.9606\n",
      "Epoch 5/5\n",
      "60000/60000 [==============================] - 229s 4ms/step - loss: 0.1275 - acc: 0.9596 - val_loss: 0.1209 - val_acc: 0.9613\n",
      "Test loss: 0.12091823821961879\n",
      "Test accuracy: 0.9613\n"
     ]
    }
   ],
   "source": [
    "tl_model.fit(x_train, y_train,\n",
    "          batch_size=128,\n",
    "          epochs=5,\n",
    "          validation_data=(x_test, y_test))\n",
    "score = tl_model.evaluate(x_test, y_test, verbose=0)\n",
    "print('Test loss:', score[0])\n",
    "print('Test accuracy:', score[1])"
   ]
  },
  {
   "cell_type": "markdown",
   "metadata": {},
   "source": [
    "## 3 Text Classification"
   ]
  },
  {
   "cell_type": "markdown",
   "metadata": {},
   "source": [
    "### 3.1 RNN"
   ]
  },
  {
   "cell_type": "code",
   "execution_count": 17,
   "metadata": {},
   "outputs": [
    {
     "name": "stderr",
     "output_type": "stream",
     "text": [
      "/Library/Frameworks/Python.framework/Versions/3.6/lib/python3.6/site-packages/IPython/core/interactiveshell.py:3058: DtypeWarning: Columns (4,6,9,10,13) have mixed types. Specify dtype option on import or set low_memory=False.\n",
      "  interactivity=interactivity, compiler=compiler, result=result)\n"
     ]
    }
   ],
   "source": [
    "\n",
    "with open('processed.csv', 'w') as csvfile:\n",
    "    writer = csv.writer(csvfile, dialect='excel')\n",
    "    with open('twitter-data/tweets_with_labels.txt', 'r') as txtfile:\n",
    "        for line in txtfile:\n",
    "            line_list = line.strip('\\n').split('\\t')\n",
    "            writer.writerow(line_list[0:17])\n",
    "df = pd.read_csv('processed.csv')"
   ]
  },
  {
   "cell_type": "markdown",
   "metadata": {},
   "source": [
    "#### 3.1.1 using softmax"
   ]
  },
  {
   "cell_type": "code",
   "execution_count": 18,
   "metadata": {},
   "outputs": [],
   "source": [
    "def change(i):\n",
    "    try:\n",
    "        float(i)\n",
    "        return float(i)\n",
    "    except ValueError:\n",
    "        return 0\n",
    "text = []\n",
    "labels = []\n",
    "signs = re.compile('[/(){}\\[\\]\\|@,;]')\n",
    "STOPWORDS = set(stopwords.words('english'))\n",
    "maxl = 0\n",
    "for i in range(len(df)):\n",
    "    label = []\n",
    "    label.append(change(df.k1[i]))\n",
    "    label.append(change(df.k2[i]))\n",
    "    label.append(change(df.k3[i]))\n",
    "    label.append(change(df.k4[i]))\n",
    "    label.append(change(df.k5[i]))\n",
    "    label.append(change(df.k6[i]))\n",
    "    label.append(change(df.k7[i]))\n",
    "    label.append(change(df.k8[i]))\n",
    "    label.append(change(df.k9[i]))\n",
    "    label.append(change(df.k10[i]))\n",
    "    label.append(change(df.k11[i]))\n",
    "    label.append(change(df.k12[i]))\n",
    "    label.append(change(df.k13[i]))\n",
    "    label.append(change(df.k14[i]))\n",
    "    label.append(change(df.k15[i]))\n",
    "    \n",
    "    labels.append(label.index(max(label)))\n",
    "    t = df.tweet[i]\n",
    "    t = t.lower()\n",
    "    t = signs.sub(' ', t)\n",
    "    t = ' '.join(word for word in t.split() if word not in STOPWORDS)\n",
    "    text.append(t)\n",
    "    if len(t.split()) > maxl:\n",
    "        maxl = len(t.split())"
   ]
  },
  {
   "cell_type": "code",
   "execution_count": 19,
   "metadata": {},
   "outputs": [],
   "source": [
    "X_train,X_test,Y_train,Y_test = train_test_split(text, labels, test_size=0.25)\n",
    "\n",
    "max_words = 50000\n",
    "tok = Tokenizer(num_words = max_words)\n",
    "tok.fit_on_texts(X_train)\n",
    "sequences = tok.texts_to_sequences(X_train)\n",
    "train_sequences_matrix = sequence.pad_sequences(sequences,maxlen=maxl)\n",
    "Y_train = np.array(Y_train)\n",
    "Y_test = np.array(Y_test)\n",
    "test_sequences = tok.texts_to_sequences(X_test)\n",
    "test_sequences_matrix = sequence.pad_sequences(test_sequences,maxlen=maxl)\n",
    "Y_train = keras.utils.to_categorical(Y_train, 15)\n",
    "Y_test = keras.utils.to_categorical(Y_test, 15)"
   ]
  },
  {
   "cell_type": "code",
   "execution_count": 20,
   "metadata": {},
   "outputs": [
    {
     "name": "stdout",
     "output_type": "stream",
     "text": [
      "Train on 58459 samples, validate on 19487 samples\n",
      "Epoch 1/20\n",
      "58459/58459 [==============================] - 25s 433us/step - loss: 1.2189 - acc: 0.6317 - val_loss: 0.7158 - val_acc: 0.8029\n",
      "Epoch 2/20\n",
      "58459/58459 [==============================] - 25s 420us/step - loss: 0.6058 - acc: 0.8265 - val_loss: 0.6025 - val_acc: 0.8253\n",
      "Epoch 3/20\n",
      "58459/58459 [==============================] - 24s 415us/step - loss: 0.5122 - acc: 0.8464 - val_loss: 0.5947 - val_acc: 0.8282\n",
      "Epoch 4/20\n",
      "58459/58459 [==============================] - 25s 421us/step - loss: 0.4589 - acc: 0.8590 - val_loss: 0.5826 - val_acc: 0.8301\n",
      "Epoch 5/20\n",
      "58459/58459 [==============================] - 24s 408us/step - loss: 0.4174 - acc: 0.8689 - val_loss: 0.5977 - val_acc: 0.8275\n",
      "Epoch 6/20\n",
      "58459/58459 [==============================] - 24s 404us/step - loss: 0.3827 - acc: 0.8794 - val_loss: 0.6074 - val_acc: 0.8292\n",
      "Epoch 7/20\n",
      "58459/58459 [==============================] - 24s 404us/step - loss: 0.3528 - acc: 0.8878 - val_loss: 0.6099 - val_acc: 0.8234\n",
      "Epoch 8/20\n",
      "58459/58459 [==============================] - 24s 403us/step - loss: 0.3267 - acc: 0.8961 - val_loss: 0.6625 - val_acc: 0.8165\n",
      "Epoch 9/20\n",
      "58459/58459 [==============================] - 24s 403us/step - loss: 0.3028 - acc: 0.9046 - val_loss: 0.6754 - val_acc: 0.8151\n",
      "Epoch 10/20\n",
      "58459/58459 [==============================] - 24s 404us/step - loss: 0.2824 - acc: 0.9111 - val_loss: 0.7052 - val_acc: 0.8079\n",
      "Epoch 11/20\n",
      "58459/58459 [==============================] - 24s 408us/step - loss: 0.2635 - acc: 0.9164 - val_loss: 0.7147 - val_acc: 0.8015\n",
      "Epoch 12/20\n",
      "58459/58459 [==============================] - 24s 405us/step - loss: 0.2454 - acc: 0.9219 - val_loss: 0.7658 - val_acc: 0.7987\n",
      "Epoch 13/20\n",
      "58459/58459 [==============================] - 24s 403us/step - loss: 0.2287 - acc: 0.9275 - val_loss: 0.7930 - val_acc: 0.7962\n",
      "Epoch 14/20\n",
      "58459/58459 [==============================] - 24s 408us/step - loss: 0.2149 - acc: 0.9315 - val_loss: 0.7821 - val_acc: 0.7910\n",
      "Epoch 15/20\n",
      "58459/58459 [==============================] - 24s 406us/step - loss: 0.2013 - acc: 0.9350 - val_loss: 0.8837 - val_acc: 0.7725\n",
      "Epoch 16/20\n",
      "58459/58459 [==============================] - 24s 405us/step - loss: 0.1898 - acc: 0.9379 - val_loss: 0.8634 - val_acc: 0.7813\n",
      "Epoch 17/20\n",
      "58459/58459 [==============================] - 24s 405us/step - loss: 0.1793 - acc: 0.9419 - val_loss: 0.9292 - val_acc: 0.7854\n",
      "Epoch 18/20\n",
      "58459/58459 [==============================] - 24s 406us/step - loss: 0.1678 - acc: 0.9452 - val_loss: 0.9551 - val_acc: 0.7697\n",
      "Epoch 19/20\n",
      "58459/58459 [==============================] - 24s 407us/step - loss: 0.1580 - acc: 0.9479 - val_loss: 1.0442 - val_acc: 0.7728\n",
      "Epoch 20/20\n",
      "58459/58459 [==============================] - 24s 404us/step - loss: 0.1483 - acc: 0.9513 - val_loss: 1.1006 - val_acc: 0.7588\n"
     ]
    },
    {
     "data": {
      "text/plain": [
       "<keras.callbacks.History at 0x7f98a9ebbdd8>"
      ]
     },
     "execution_count": 20,
     "metadata": {},
     "output_type": "execute_result"
    }
   ],
   "source": [
    "input = Input(shape = [maxl])\n",
    "x = Embedding(max_words,50,input_length = maxl)(input)\n",
    "x = LSTM(128)(x)\n",
    "x = Dense(256, activation ='relu')(x)\n",
    "output = Dense(15,  activation = 'softmax')(x)\n",
    "model_rnn_softmax = Model(inputs=input,outputs=output)\n",
    "model_rnn_softmax.compile(loss='categorical_crossentropy', optimizer=RMSprop(), metrics=['accuracy'])\n",
    "model_rnn_softmax.fit(train_sequences_matrix,\n",
    "           Y_train,\n",
    "           batch_size=128,\n",
    "           epochs=20, \n",
    "           validation_data=(test_sequences_matrix, Y_test))"
   ]
  },
  {
   "cell_type": "code",
   "execution_count": 21,
   "metadata": {},
   "outputs": [
    {
     "name": "stdout",
     "output_type": "stream",
     "text": [
      "Test loss: 1.100634970124569\n",
      "Test accuracy: 0.7588135680319402\n"
     ]
    }
   ],
   "source": [
    "score = model_rnn_softmax.evaluate(test_sequences_matrix, Y_test, verbose=0)\n",
    "print('Test loss:', score[0])\n",
    "print('Test accuracy:', score[1])\n"
   ]
  },
  {
   "cell_type": "markdown",
   "metadata": {},
   "source": [
    "#### 3.1.2 using sigmoid"
   ]
  },
  {
   "cell_type": "code",
   "execution_count": 22,
   "metadata": {},
   "outputs": [],
   "source": [
    "def new_change(i):\n",
    "    try:\n",
    "        float(i)\n",
    "        if float(i) > 0:\n",
    "            return 1\n",
    "        else:\n",
    "            return 0\n",
    "    except ValueError:\n",
    "        return 0\n",
    "text = []\n",
    "labels = []\n",
    "signs = re.compile('[/(){}\\[\\]\\|@,;]')\n",
    "STOPWORDS = set(stopwords.words('english'))\n",
    "maxl = 0\n",
    "for i in range(len(df)):\n",
    "    label = []\n",
    "    label.append(new_change(df.k1[i]))\n",
    "    label.append(new_change(df.k2[i]))\n",
    "    label.append(new_change(df.k3[i]))\n",
    "    label.append(new_change(df.k4[i]))\n",
    "    label.append(new_change(df.k5[i]))\n",
    "    label.append(new_change(df.k6[i]))\n",
    "    label.append(new_change(df.k7[i]))\n",
    "    label.append(new_change(df.k8[i]))\n",
    "    label.append(new_change(df.k9[i]))\n",
    "    label.append(new_change(df.k10[i]))\n",
    "    label.append(new_change(df.k11[i]))\n",
    "    label.append(new_change(df.k12[i]))\n",
    "    label.append(new_change(df.k13[i]))\n",
    "    label.append(new_change(df.k14[i]))\n",
    "    label.append(new_change(df.k15[i]))\n",
    "    labels.append(label)\n",
    "    t = df.tweet[i]\n",
    "    t = t.lower()\n",
    "    t = signs.sub(' ', t)\n",
    "    t = ' '.join(word for word in t.split() if word not in STOPWORDS)\n",
    "    text.append(t)\n",
    "    if len(t.split()) > maxl:\n",
    "        maxl = len(t.split())"
   ]
  },
  {
   "cell_type": "code",
   "execution_count": 23,
   "metadata": {},
   "outputs": [],
   "source": [
    "X_train,X_test,Y_train,Y_test = train_test_split(text, labels, test_size=0.25)\n",
    "\n",
    "max_words = 50000\n",
    "tok = Tokenizer(num_words = max_words)\n",
    "tok.fit_on_texts(X_train)\n",
    "sequences = tok.texts_to_sequences(X_train)\n",
    "train_sequences_matrix = sequence.pad_sequences(sequences,maxlen=maxl)\n",
    "Y_train = np.array(Y_train)\n",
    "Y_test = np.array(Y_test)\n",
    "test_sequences = tok.texts_to_sequences(X_test)\n",
    "test_sequences_matrix = sequence.pad_sequences(test_sequences,maxlen=maxl)"
   ]
  },
  {
   "cell_type": "code",
   "execution_count": 24,
   "metadata": {},
   "outputs": [
    {
     "name": "stdout",
     "output_type": "stream",
     "text": [
      "Train on 58459 samples, validate on 19487 samples\n",
      "Epoch 1/20\n",
      "58459/58459 [==============================] - 25s 425us/step - loss: 0.2545 - acc: 0.9017 - val_loss: 0.1842 - val_acc: 0.9318\n",
      "Epoch 2/20\n",
      "58459/58459 [==============================] - 24s 410us/step - loss: 0.1604 - acc: 0.9422 - val_loss: 0.1515 - val_acc: 0.9450\n",
      "Epoch 3/20\n",
      "58459/58459 [==============================] - 24s 413us/step - loss: 0.1409 - acc: 0.9486 - val_loss: 0.1443 - val_acc: 0.9479\n",
      "Epoch 4/20\n",
      "58459/58459 [==============================] - 25s 422us/step - loss: 0.1310 - acc: 0.9523 - val_loss: 0.1403 - val_acc: 0.9500\n",
      "Epoch 5/20\n",
      "58459/58459 [==============================] - 26s 443us/step - loss: 0.1243 - acc: 0.9545 - val_loss: 0.1411 - val_acc: 0.9492\n",
      "Epoch 6/20\n",
      "58459/58459 [==============================] - 26s 437us/step - loss: 0.1190 - acc: 0.9564 - val_loss: 0.1400 - val_acc: 0.9500\n",
      "Epoch 7/20\n",
      "58459/58459 [==============================] - 24s 408us/step - loss: 0.1139 - acc: 0.9581 - val_loss: 0.1442 - val_acc: 0.9485\n",
      "Epoch 8/20\n",
      "58459/58459 [==============================] - 25s 422us/step - loss: 0.1091 - acc: 0.9599 - val_loss: 0.1496 - val_acc: 0.9492\n",
      "Epoch 9/20\n",
      "58459/58459 [==============================] - 25s 435us/step - loss: 0.1046 - acc: 0.9614 - val_loss: 0.1491 - val_acc: 0.9486\n",
      "Epoch 10/20\n",
      "58459/58459 [==============================] - 25s 422us/step - loss: 0.0999 - acc: 0.9633 - val_loss: 0.1527 - val_acc: 0.9468\n",
      "Epoch 11/20\n",
      "58459/58459 [==============================] - 24s 411us/step - loss: 0.0957 - acc: 0.9648 - val_loss: 0.1591 - val_acc: 0.9472\n",
      "Epoch 12/20\n",
      "58459/58459 [==============================] - 23s 401us/step - loss: 0.0912 - acc: 0.9664 - val_loss: 0.1588 - val_acc: 0.9473\n",
      "Epoch 13/20\n",
      "58459/58459 [==============================] - 23s 401us/step - loss: 0.0872 - acc: 0.9681 - val_loss: 0.1639 - val_acc: 0.9461\n",
      "Epoch 14/20\n",
      "58459/58459 [==============================] - 23s 400us/step - loss: 0.0832 - acc: 0.9696 - val_loss: 0.1673 - val_acc: 0.9450\n",
      "Epoch 15/20\n",
      "58459/58459 [==============================] - 24s 402us/step - loss: 0.0796 - acc: 0.9710 - val_loss: 0.1742 - val_acc: 0.9451\n",
      "Epoch 16/20\n",
      "58459/58459 [==============================] - 24s 411us/step - loss: 0.0761 - acc: 0.9723 - val_loss: 0.1824 - val_acc: 0.9432\n",
      "Epoch 17/20\n",
      "58459/58459 [==============================] - 24s 403us/step - loss: 0.0728 - acc: 0.9735 - val_loss: 0.1895 - val_acc: 0.9421\n",
      "Epoch 18/20\n",
      "58459/58459 [==============================] - 24s 417us/step - loss: 0.0695 - acc: 0.9746 - val_loss: 0.1926 - val_acc: 0.9401\n",
      "Epoch 19/20\n",
      "58459/58459 [==============================] - 24s 409us/step - loss: 0.0666 - acc: 0.9756 - val_loss: 0.2059 - val_acc: 0.9403\n",
      "Epoch 20/20\n",
      "58459/58459 [==============================] - 24s 413us/step - loss: 0.0638 - acc: 0.9767 - val_loss: 0.2128 - val_acc: 0.9399\n"
     ]
    },
    {
     "data": {
      "text/plain": [
       "<keras.callbacks.History at 0x7f98ba2edef0>"
      ]
     },
     "execution_count": 24,
     "metadata": {},
     "output_type": "execute_result"
    }
   ],
   "source": [
    "input = Input(shape = [maxl])\n",
    "x = Embedding(max_words,50,input_length = maxl)(input)\n",
    "x = LSTM(128)(x)\n",
    "x = Dense(256, activation ='relu')(x)\n",
    "output = Dense(15,  activation = 'sigmoid')(x)\n",
    "model_rnn_sigmoid = Model(inputs=input,outputs=output)\n",
    "model_rnn_sigmoid.compile(loss='binary_crossentropy', optimizer=RMSprop(), metrics=['accuracy'])\n",
    "model_rnn_sigmoid.fit(train_sequences_matrix,\n",
    "           Y_train,\n",
    "           batch_size=128,\n",
    "           epochs=20, \n",
    "           validation_data=(test_sequences_matrix, Y_test))\n"
   ]
  },
  {
   "cell_type": "code",
   "execution_count": 40,
   "metadata": {},
   "outputs": [
    {
     "name": "stdout",
     "output_type": "stream",
     "text": [
      "Test loss: 0.21276537773576984\n",
      "Test accuracy: 0.9399155230025914\n"
     ]
    }
   ],
   "source": [
    "score = model_rnn_sigmoid.evaluate(test_sequences_matrix, Y_test, verbose=0)\n",
    "print('Test loss:', score[0])\n",
    "print('Test accuracy:', score[1])\n",
    "\n",
    "pred_y_rnn = model_rnn_sigmoid.predict(test_sequences_matrix)\n",
    "fpr_rnn, tpr_rnn, rnn_ = roc_curve(Y_test.ravel(), pred_y_rnn.ravel())\n",
    "auc_rnn = auc(fpr_rnn, tpr_rnn)"
   ]
  },
  {
   "cell_type": "markdown",
   "metadata": {},
   "source": [
    "### 3.2 CNN\n",
    "#### because in RNN the sigmoid performs better, so I just use sigmoid here"
   ]
  },
  {
   "cell_type": "code",
   "execution_count": 41,
   "metadata": {},
   "outputs": [
    {
     "name": "stdout",
     "output_type": "stream",
     "text": [
      "Train on 58459 samples, validate on 19487 samples\n",
      "Epoch 1/20\n",
      "58459/58459 [==============================] - 12s 198us/step - loss: 0.2758 - acc: 0.8979 - val_loss: 0.2222 - val_acc: 0.9155\n",
      "Epoch 2/20\n",
      "58459/58459 [==============================] - 11s 187us/step - loss: 0.1936 - acc: 0.9299 - val_loss: 0.1823 - val_acc: 0.9356\n",
      "Epoch 3/20\n",
      "58459/58459 [==============================] - 11s 189us/step - loss: 0.1694 - acc: 0.9395 - val_loss: 0.1720 - val_acc: 0.9383\n",
      "Epoch 4/20\n",
      "58459/58459 [==============================] - 11s 189us/step - loss: 0.1584 - acc: 0.9430 - val_loss: 0.1690 - val_acc: 0.9395\n",
      "Epoch 5/20\n",
      "58459/58459 [==============================] - 11s 188us/step - loss: 0.1497 - acc: 0.9459 - val_loss: 0.1691 - val_acc: 0.9388\n",
      "Epoch 6/20\n",
      "58459/58459 [==============================] - 11s 188us/step - loss: 0.1422 - acc: 0.9484 - val_loss: 0.1656 - val_acc: 0.9411\n",
      "Epoch 7/20\n",
      "58459/58459 [==============================] - 11s 190us/step - loss: 0.1355 - acc: 0.9511 - val_loss: 0.1665 - val_acc: 0.9418\n",
      "Epoch 8/20\n",
      "58459/58459 [==============================] - 11s 189us/step - loss: 0.1295 - acc: 0.9534 - val_loss: 0.1721 - val_acc: 0.9408\n",
      "Epoch 9/20\n",
      "58459/58459 [==============================] - 11s 190us/step - loss: 0.1241 - acc: 0.9552 - val_loss: 0.1697 - val_acc: 0.9400\n",
      "Epoch 10/20\n",
      "58459/58459 [==============================] - 11s 189us/step - loss: 0.1192 - acc: 0.9573 - val_loss: 0.1745 - val_acc: 0.9380\n",
      "Epoch 11/20\n",
      "58459/58459 [==============================] - 11s 187us/step - loss: 0.1148 - acc: 0.9587 - val_loss: 0.1775 - val_acc: 0.9383\n",
      "Epoch 12/20\n",
      "58459/58459 [==============================] - 11s 189us/step - loss: 0.1108 - acc: 0.9604 - val_loss: 0.1817 - val_acc: 0.9396\n",
      "Epoch 13/20\n",
      "58459/58459 [==============================] - 11s 187us/step - loss: 0.1071 - acc: 0.9618 - val_loss: 0.1837 - val_acc: 0.9374\n",
      "Epoch 14/20\n",
      "58459/58459 [==============================] - 11s 186us/step - loss: 0.1037 - acc: 0.9630 - val_loss: 0.1877 - val_acc: 0.9365\n",
      "Epoch 15/20\n",
      "58459/58459 [==============================] - 11s 189us/step - loss: 0.1004 - acc: 0.9642 - val_loss: 0.1961 - val_acc: 0.9361\n",
      "Epoch 16/20\n",
      "58459/58459 [==============================] - 11s 189us/step - loss: 0.0975 - acc: 0.9652 - val_loss: 0.1999 - val_acc: 0.9362\n",
      "Epoch 17/20\n",
      "58459/58459 [==============================] - 11s 189us/step - loss: 0.0948 - acc: 0.9664 - val_loss: 0.2004 - val_acc: 0.9354\n",
      "Epoch 18/20\n",
      "58459/58459 [==============================] - 11s 191us/step - loss: 0.0924 - acc: 0.9672 - val_loss: 0.2035 - val_acc: 0.9338\n",
      "Epoch 19/20\n",
      "58459/58459 [==============================] - 11s 188us/step - loss: 0.0900 - acc: 0.9683 - val_loss: 0.2091 - val_acc: 0.9330\n",
      "Epoch 20/20\n",
      "58459/58459 [==============================] - 11s 188us/step - loss: 0.0879 - acc: 0.9690 - val_loss: 0.2162 - val_acc: 0.9310\n"
     ]
    },
    {
     "data": {
      "text/plain": [
       "<keras.callbacks.History at 0x7f988a06d3c8>"
      ]
     },
     "execution_count": 41,
     "metadata": {},
     "output_type": "execute_result"
    }
   ],
   "source": [
    "x = Embedding(max_words,50,input_length = maxl)(input)\n",
    "x = Conv1D(8, 3, activation='relu', padding='same')(x)\n",
    "x = MaxPool1D(2, padding='same')(x)\n",
    "x = Conv1D(4, 3, activation='relu', padding='same')(x)\n",
    "x = MaxPool1D(2, padding='same')(x)\n",
    "x = Flatten()(x)\n",
    "x = Dense(256, activation ='relu')(x)\n",
    "output = Dense(15,  activation = 'sigmoid')(x)\n",
    "model_cnn_sigmoid = Model(inputs=input,outputs=output)\n",
    "model_cnn_sigmoid.compile(loss='binary_crossentropy', optimizer=RMSprop(), metrics=['accuracy'])\n",
    "model_cnn_sigmoid.fit(train_sequences_matrix,\n",
    "           Y_train,\n",
    "           batch_size=128,\n",
    "           epochs=20, \n",
    "           validation_data=(test_sequences_matrix, Y_test))"
   ]
  },
  {
   "cell_type": "code",
   "execution_count": 42,
   "metadata": {},
   "outputs": [
    {
     "name": "stdout",
     "output_type": "stream",
     "text": [
      "Test loss: 0.21615662076569034\n",
      "Test accuracy: 0.9309659607415203\n"
     ]
    }
   ],
   "source": [
    "score = model_cnn_sigmoid.evaluate(test_sequences_matrix, Y_test, verbose=0)\n",
    "print('Test loss:', score[0])\n",
    "print('Test accuracy:', score[1])\n",
    "\n",
    "pred_y_cnn = model_cnn_sigmoid.predict(test_sequences_matrix).ravel()\n",
    "fpr_cnn, tpr_cnn, cnn_ = roc_curve(Y_test.ravel(), pred_y_cnn.ravel())\n",
    "auc_cnn = auc(fpr_cnn, tpr_cnn)"
   ]
  },
  {
   "cell_type": "markdown",
   "metadata": {},
   "source": [
    "### 3.3"
   ]
  },
  {
   "cell_type": "code",
   "execution_count": 43,
   "metadata": {},
   "outputs": [
    {
     "data": {
      "image/png": "[encoded data removed]",
      "text/plain": [
       "<Figure size 432x288 with 1 Axes>"
      ]
     },
     "metadata": {
      "needs_background": "light"
     },
     "output_type": "display_data"
    },
    {
     "name": "stdout",
     "output_type": "stream",
     "text": [
      "Rnn Accuracy 0.9425861787478338\n",
      "Cnn Accuracy 0.9349439428923351\n"
     ]
    }
   ],
   "source": [
    "plt.figure()\n",
    "plt.plot([0, 1], [0, 1], 'k--')\n",
    "plt.plot(fpr_rnn, tpr_rnn)\n",
    "plt.plot(fpr_cnn, tpr_cnn)\n",
    "plt.title('ROC curve')\n",
    "plt.show()\n",
    "\n",
    "print(\"Rnn Accuracy\", auc_rnn)\n",
    "print(\"Cnn Accuracy\", auc_cnn)"
   ]
  },
  {
   "cell_type": "code",
   "execution_count": null,
   "metadata": {},
   "outputs": [],
   "source": []
  }
 ],
 "metadata": {
  "kernelspec": {
   "display_name": "Python 3",
   "language": "python",
   "name": "python3"
  },
  "language_info": {
   "codemirror_mode": {
    "name": "ipython",
    "version": 3
   },
   "file_extension": ".py",
   "mimetype": "text/x-python",
   "name": "python",
   "nbconvert_exporter": "python",
   "pygments_lexer": "ipython3",
   "version": "3.6.7"
  }
 },
 "nbformat": 4,
 "nbformat_minor": 2
}
